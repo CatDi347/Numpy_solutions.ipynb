{
  "nbformat": 4,
  "nbformat_minor": 0,
  "metadata": {
    "colab": {
      "provenance": []
    },
    "kernelspec": {
      "name": "python3",
      "display_name": "Python 3"
    },
    "language_info": {
      "name": "python"
    }
  },
  "cells": [
    {
      "cell_type": "code",
      "execution_count": null,
      "metadata": {
        "id": "Oq1yRIcfFJMM"
      },
      "outputs": [],
      "source": [
        "#️Задание 4.a\n",
        "import numpy as np"
      ]
    },
    {
      "cell_type": "code",
      "source": [
        "#️Задание 4.b\n",
        "import numpy as np\n",
        "a = np.zeros(10)\n",
        "print(a);"
      ],
      "metadata": {
        "colab": {
          "base_uri": "https://localhost:8080/"
        },
        "id": "9E9LjnEgIbvO",
        "outputId": "6660b1aa-0aa6-4fc1-8615-c0faa406e8d5"
      },
      "execution_count": 218,
      "outputs": [
        {
          "output_type": "stream",
          "name": "stdout",
          "text": [
            "[0. 0. 0. 0. 0. 0. 0. 0. 0. 0.]\n"
          ]
        }
      ]
    },
    {
      "cell_type": "code",
      "source": [
        "#️Задание 4.c\n",
        "import numpy as np\n",
        "a = np.ones(10)\n",
        "print(a)\n"
      ],
      "metadata": {
        "colab": {
          "base_uri": "https://localhost:8080/"
        },
        "id": "7qARVig8FkrH",
        "outputId": "ab1be8de-1cd6-46d2-f1f8-a2f41c0728d5"
      },
      "execution_count": null,
      "outputs": [
        {
          "output_type": "stream",
          "name": "stdout",
          "text": [
            "[1. 1. 1. 1. 1. 1. 1. 1. 1. 1.]\n"
          ]
        }
      ]
    },
    {
      "cell_type": "code",
      "source": [
        "#️Задание 4.d\n",
        "import numpy as np\n",
        "a=np.full(10, 5)\n",
        "print(a)"
      ],
      "metadata": {
        "colab": {
          "base_uri": "https://localhost:8080/"
        },
        "id": "X-ImdTX6HtJn",
        "outputId": "3cd8ae39-3241-48fe-f1fb-a7c43f2cd18d"
      },
      "execution_count": null,
      "outputs": [
        {
          "output_type": "stream",
          "name": "stdout",
          "text": [
            "[5 5 5 5 5 5 5 5 5 5]\n"
          ]
        }
      ]
    },
    {
      "cell_type": "code",
      "source": [
        "#️Задание 4.e\n",
        "import numpy as np\n",
        "a=np.arange(10,50,1)\n",
        "print(a)"
      ],
      "metadata": {
        "colab": {
          "base_uri": "https://localhost:8080/"
        },
        "id": "HE5yKOQDH8rw",
        "outputId": "1230254d-db27-40c0-e188-572e7028914f"
      },
      "execution_count": 219,
      "outputs": [
        {
          "output_type": "stream",
          "name": "stdout",
          "text": [
            "[10 11 12 13 14 15 16 17 18 19 20 21 22 23 24 25 26 27 28 29 30 31 32 33\n",
            " 34 35 36 37 38 39 40 41 42 43 44 45 46 47 48 49]\n"
          ]
        }
      ]
    },
    {
      "cell_type": "code",
      "source": [
        "#️Задание 4.f\n",
        "import numpy as np\n",
        "a=np.arange(10,50,2)\n",
        "print(a)\n"
      ],
      "metadata": {
        "colab": {
          "base_uri": "https://localhost:8080/"
        },
        "id": "18ObtBCGVVRR",
        "outputId": "3f0d7199-a153-48d7-f9f1-0518baa98253"
      },
      "execution_count": null,
      "outputs": [
        {
          "output_type": "stream",
          "name": "stdout",
          "text": [
            "[10 12 14 16 18 20 22 24 26 28 30 32 34 36 38 40 42 44 46 48]\n"
          ]
        }
      ]
    },
    {
      "cell_type": "code",
      "source": [
        "#️Задание 4.g\n",
        "import numpy as np\n",
        "a=np.arange(9).reshape((3,3))\n",
        "print(a)"
      ],
      "metadata": {
        "colab": {
          "base_uri": "https://localhost:8080/"
        },
        "id": "KJ5-xTkLWP9o",
        "outputId": "2285703e-b6f4-490a-f130-a272ccc7967b"
      },
      "execution_count": null,
      "outputs": [
        {
          "output_type": "stream",
          "name": "stdout",
          "text": [
            "[[0 1 2]\n",
            " [3 4 5]\n",
            " [6 7 8]]\n"
          ]
        }
      ]
    },
    {
      "cell_type": "code",
      "source": [
        "#️Задание 4.h\n",
        "import numpy as np\n",
        "a = np.eye((3))\n",
        "print(a)"
      ],
      "metadata": {
        "colab": {
          "base_uri": "https://localhost:8080/"
        },
        "id": "4loKdhjIY8Cn",
        "outputId": "96100919-899c-4664-eb0e-d2b7a26f6bdb"
      },
      "execution_count": 220,
      "outputs": [
        {
          "output_type": "stream",
          "name": "stdout",
          "text": [
            "[[1. 0. 0.]\n",
            " [0. 1. 0.]\n",
            " [0. 0. 1.]]\n"
          ]
        }
      ]
    },
    {
      "cell_type": "code",
      "source": [
        "#️Задание 4.i\n",
        "import numpy as np\n",
        "a = np.random.randint(0,1,1)\n",
        "print(a)"
      ],
      "metadata": {
        "colab": {
          "base_uri": "https://localhost:8080/"
        },
        "id": "LEQeV9AHZHZB",
        "outputId": "bad56d94-f92b-40a9-cdf3-993b44f46340"
      },
      "execution_count": null,
      "outputs": [
        {
          "output_type": "stream",
          "name": "stdout",
          "text": [
            "[0]\n"
          ]
        }
      ]
    },
    {
      "cell_type": "code",
      "source": [
        "#️Задание 4.j\n",
        "import numpy as np\n",
        "a = np.random.normal(0,1,25)\n",
        "print(a)"
      ],
      "metadata": {
        "colab": {
          "base_uri": "https://localhost:8080/"
        },
        "id": "i9TULe_JdKVN",
        "outputId": "e9c5fdaf-31dd-4e03-eedc-d310d6d8c9e2"
      },
      "execution_count": 221,
      "outputs": [
        {
          "output_type": "stream",
          "name": "stdout",
          "text": [
            "[-0.65331612  0.10623762  0.15109218  0.18211535 -2.14442261 -0.59102414\n",
            "  0.69357262  0.58057913 -1.82706875 -0.99756263  1.50936649  2.01498102\n",
            "  1.10246339  0.65055212 -1.29408129 -0.00732201  0.5089516   1.0753349\n",
            "  0.863776    0.14154465 -1.11696188  0.33240124  2.20048501  0.00579843\n",
            "  3.62955781]\n"
          ]
        }
      ]
    },
    {
      "cell_type": "code",
      "source": [
        "#️Задание 4.k\n",
        "import numpy as np\n",
        "a=np.arange(0.01,1.01,0.01).reshape((10,10))\n",
        "print (a)\n"
      ],
      "metadata": {
        "colab": {
          "base_uri": "https://localhost:8080/"
        },
        "id": "3He53rQ5xEhm",
        "outputId": "d2cb6900-8db6-4165-9f5c-c1dfd4128cb2"
      },
      "execution_count": 88,
      "outputs": [
        {
          "output_type": "stream",
          "name": "stdout",
          "text": [
            "[[0.01 0.02 0.03 0.04 0.05 0.06 0.07 0.08 0.09 0.1 ]\n",
            " [0.11 0.12 0.13 0.14 0.15 0.16 0.17 0.18 0.19 0.2 ]\n",
            " [0.21 0.22 0.23 0.24 0.25 0.26 0.27 0.28 0.29 0.3 ]\n",
            " [0.31 0.32 0.33 0.34 0.35 0.36 0.37 0.38 0.39 0.4 ]\n",
            " [0.41 0.42 0.43 0.44 0.45 0.46 0.47 0.48 0.49 0.5 ]\n",
            " [0.51 0.52 0.53 0.54 0.55 0.56 0.57 0.58 0.59 0.6 ]\n",
            " [0.61 0.62 0.63 0.64 0.65 0.66 0.67 0.68 0.69 0.7 ]\n",
            " [0.71 0.72 0.73 0.74 0.75 0.76 0.77 0.78 0.79 0.8 ]\n",
            " [0.81 0.82 0.83 0.84 0.85 0.86 0.87 0.88 0.89 0.9 ]\n",
            " [0.91 0.92 0.93 0.94 0.95 0.96 0.97 0.98 0.99 1.  ]]\n"
          ]
        }
      ]
    },
    {
      "cell_type": "code",
      "source": [
        "#️Задание 4.l\n",
        "import numpy as np\n",
        "mat = np.arange(1,26).reshape(5,5)\n",
        "print(mat)"
      ],
      "metadata": {
        "colab": {
          "base_uri": "https://localhost:8080/"
        },
        "id": "928tqhT4e_Cz",
        "outputId": "42ccc688-271b-4928-cf27-245727e48be2"
      },
      "execution_count": 222,
      "outputs": [
        {
          "output_type": "stream",
          "name": "stdout",
          "text": [
            "[[ 1  2  3  4  5]\n",
            " [ 6  7  8  9 10]\n",
            " [11 12 13 14 15]\n",
            " [16 17 18 19 20]\n",
            " [21 22 23 24 25]]\n"
          ]
        }
      ]
    },
    {
      "cell_type": "code",
      "source": [
        "#️Задание 4.l\n",
        "import numpy as np\n",
        "mat = np.arange(1,26).reshape(5,5)\n",
        "mat = mat[2: , 1:]\n",
        "print(mat)"
      ],
      "metadata": {
        "colab": {
          "base_uri": "https://localhost:8080/"
        },
        "id": "WvuVPAu6fXKN",
        "outputId": "ee9e2ea2-e2eb-438a-ee3b-936656404eb4"
      },
      "execution_count": 223,
      "outputs": [
        {
          "output_type": "stream",
          "name": "stdout",
          "text": [
            "[[12 13 14 15]\n",
            " [17 18 19 20]\n",
            " [22 23 24 25]]\n"
          ]
        }
      ]
    },
    {
      "cell_type": "code",
      "source": [
        "#️Задание 4.m\n",
        "import numpy as np\n",
        "mat = np.arange(1,26).reshape(5,5)\n",
        "mat = mat[3::4, -1::1]\n",
        "print (mat)"
      ],
      "metadata": {
        "colab": {
          "base_uri": "https://localhost:8080/"
        },
        "id": "IyoS4gZXjkjx",
        "outputId": "a0421a89-3c6d-4116-e2d6-068213114630"
      },
      "execution_count": 171,
      "outputs": [
        {
          "output_type": "stream",
          "name": "stdout",
          "text": [
            "[[20]]\n"
          ]
        }
      ]
    },
    {
      "cell_type": "code",
      "source": [
        "#️Задание 4.n\n",
        "import numpy as np\n",
        "mat = np.arange(1,26).reshape(5,5)\n",
        "mat = mat[-1: , -5::]\n",
        "print (mat)"
      ],
      "metadata": {
        "colab": {
          "base_uri": "https://localhost:8080/"
        },
        "id": "vWA_Ddo9Lj9o",
        "outputId": "db285d54-a062-4332-d4c5-eeeb1e37b1cc"
      },
      "execution_count": 207,
      "outputs": [
        {
          "output_type": "stream",
          "name": "stdout",
          "text": [
            "[[21 22 23 24 25]]\n"
          ]
        }
      ]
    },
    {
      "cell_type": "code",
      "source": [
        "#️Задание 4.o\n",
        "import numpy as np\n",
        "mat = np.arange(1,26).reshape(5,5)\n",
        "mat = mat[-1: , -5::]\n",
        "print (mat)"
      ],
      "metadata": {
        "colab": {
          "base_uri": "https://localhost:8080/"
        },
        "id": "wLjOTcPyUQAu",
        "outputId": "fb337a66-b1c8-465c-c0b8-e2915de3ba7e"
      },
      "execution_count": 210,
      "outputs": [
        {
          "output_type": "stream",
          "name": "stdout",
          "text": [
            "[[21 22 23 24 25]]\n"
          ]
        }
      ]
    },
    {
      "cell_type": "code",
      "source": [
        "#️Задание 4.p\n",
        "import numpy as np\n",
        "mat = np.arange(1,26).reshape(5,5)\n",
        "mat = mat[-2: , -5::]\n",
        "print (mat)"
      ],
      "metadata": {
        "colab": {
          "base_uri": "https://localhost:8080/"
        },
        "id": "EOIvAHRWWJnM",
        "outputId": "6535800d-1530-434d-d03e-06d3721554f7"
      },
      "execution_count": 211,
      "outputs": [
        {
          "output_type": "stream",
          "name": "stdout",
          "text": [
            "[[16 17 18 19 20]\n",
            " [21 22 23 24 25]]\n"
          ]
        }
      ]
    },
    {
      "cell_type": "code",
      "source": [
        "#️Задание 4.q\n",
        "import numpy as np\n",
        "mat = np.arange(1,26).reshape(5,5)\n",
        "mat = np.sum(mat)\n",
        "print(mat)"
      ],
      "metadata": {
        "colab": {
          "base_uri": "https://localhost:8080/"
        },
        "id": "6W8xTg1MWUO1",
        "outputId": "a095ed8e-e20e-4cdb-ad5b-5ebeb420ad28"
      },
      "execution_count": 215,
      "outputs": [
        {
          "output_type": "stream",
          "name": "stdout",
          "text": [
            "325\n"
          ]
        }
      ]
    },
    {
      "cell_type": "code",
      "source": [
        "#️Задание 4.r"
      ],
      "metadata": {
        "id": "z-JWMcXlW_pt"
      },
      "execution_count": null,
      "outputs": []
    },
    {
      "cell_type": "code",
      "source": [
        "import numpy as np\n",
        "mat = np.arange(1,26).reshape(5,5)\n",
        "mat = np.std(mat)\n",
        "print(mat)"
      ],
      "metadata": {
        "colab": {
          "base_uri": "https://localhost:8080/"
        },
        "id": "gEd6v5AZXDmO",
        "outputId": "fe760a07-2a84-4dad-ffa4-9b4cd629ebe4"
      },
      "execution_count": 216,
      "outputs": [
        {
          "output_type": "stream",
          "name": "stdout",
          "text": [
            "7.211102550927978\n"
          ]
        }
      ]
    },
    {
      "cell_type": "code",
      "source": [
        "#️Задание 4.s\n",
        "import numpy as np\n",
        "mat = np.arange(1,26).reshape(5,5)\n",
        "mat = np.sum(mat, axis=0) \n",
        "print(mat)"
      ],
      "metadata": {
        "colab": {
          "base_uri": "https://localhost:8080/"
        },
        "id": "2vWyEmK-XaAc",
        "outputId": "8b6e9fa2-209d-44d7-9de0-56862b80719b"
      },
      "execution_count": 217,
      "outputs": [
        {
          "output_type": "stream",
          "name": "stdout",
          "text": [
            "[55 60 65 70 75]\n"
          ]
        }
      ]
    }
  ]
}